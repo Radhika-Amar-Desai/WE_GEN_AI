{
 "cells": [
  {
   "cell_type": "code",
   "execution_count": 2,
   "metadata": {},
   "outputs": [],
   "source": [
    "import random"
   ]
  },
  {
   "cell_type": "code",
   "execution_count": 32,
   "metadata": {},
   "outputs": [],
   "source": [
    "class MarkovAutofill:\n",
    "    def __init__(self):\n",
    "        self.chain = {}\n",
    "\n",
    "    def train(self, file_path):\n",
    "        with open(file_path, 'r', encoding='utf-8') as file:\n",
    "            text = file.read()\n",
    "            words = text.split()\n",
    "            for index, current_word in enumerate( words[:-1] ):\n",
    "                predicted_word = words[index + 2] \\\n",
    "                                if index < len(words)-2 else None\n",
    "                next_word = words[index+1]\n",
    "                current_phrase = ( current_word, next_word )\n",
    "                if current_phrase not in self.chain:\n",
    "                    self.chain[current_phrase] = []\n",
    "                self.chain[current_phrase].append(predicted_word)\n",
    "\n",
    "    def predict_next_word(self, current_sentence):\n",
    "        words = current_sentence.split()\n",
    "        if tuple(words[-2:]) in self.chain:\n",
    "            return random.choice(self.chain[tuple(words[-2:])])\n",
    "        return None"
   ]
  },
  {
   "cell_type": "code",
   "execution_count": 33,
   "metadata": {},
   "outputs": [
    {
     "data": {
      "text/plain": [
       "{('this', 'is'): ['a'],\n",
       " ('is', 'a'): ['cat.', 'dog.'],\n",
       " ('a', 'cat.'): ['that'],\n",
       " ('cat.', 'that'): ['is'],\n",
       " ('that', 'is'): ['a'],\n",
       " ('a', 'dog.'): ['my'],\n",
       " ('dog.', 'my'): ['dog'],\n",
       " ('my', 'dog'): ['is'],\n",
       " ('dog', 'is'): ['cute.'],\n",
       " ('is', 'cute.'): ['my'],\n",
       " ('cute.', 'my'): ['cat'],\n",
       " ('my', 'cat'): ['is'],\n",
       " ('cat', 'is'): ['orange'],\n",
       " ('is', 'orange'): ['in'],\n",
       " ('orange', 'in'): ['color.'],\n",
       " ('in', 'color.'): [None]}"
      ]
     },
     "execution_count": 33,
     "metadata": {},
     "output_type": "execute_result"
    }
   ],
   "source": [
    "autofill = MarkovAutofill()\n",
    "text_file_path = \"sample_text.txt\"\n",
    "autofill.train(text_file_path)\n",
    "autofill.chain"
   ]
  },
  {
   "cell_type": "code",
   "execution_count": 35,
   "metadata": {},
   "outputs": [
    {
     "data": {
      "text/plain": [
       "'orange'"
      ]
     },
     "execution_count": 35,
     "metadata": {},
     "output_type": "execute_result"
    }
   ],
   "source": [
    "current_sentence = \"my cat is\"\n",
    "next_word = autofill.predict_next_word(current_sentence)\n",
    "next_word"
   ]
  }
 ],
 "metadata": {
  "kernelspec": {
   "display_name": "Python 3",
   "language": "python",
   "name": "python3"
  },
  "language_info": {
   "codemirror_mode": {
    "name": "ipython",
    "version": 3
   },
   "file_extension": ".py",
   "mimetype": "text/x-python",
   "name": "python",
   "nbconvert_exporter": "python",
   "pygments_lexer": "ipython3",
   "version": "3.12.1"
  }
 },
 "nbformat": 4,
 "nbformat_minor": 2
}
